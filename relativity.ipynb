{
 "cells": [
  {
   "cell_type": "code",
   "execution_count": null,
   "metadata": {
    "vscode": {
     "languageId": "plaintext"
    }
   },
   "outputs": [],
   "source": [
    "import numpy as np\n",
    "import matplotlib.pyplot as plt\n",
    "from mpl_toolkits.mplot3d import Axes3D\n",
    "from scipy.special import erf\n",
    "\n",
    "# Set up plotting style\n",
    "plt.style.use('seaborn')"
   ]
  },
  {
   "cell_type": "code",
   "execution_count": null,
   "metadata": {
    "vscode": {
     "languageId": "plaintext"
    }
   },
   "outputs": [],
   "source": [
    "def spacetime_curvature(x, y, mass):\n",
    "    r = np.sqrt(x**2 + y**2)\n",
    "    return 1 / (1 + mass / (r + 1e-6))\n",
    "\n",
    "x = np.linspace(-10, 10, 100)\n",
    "y = np.linspace(-10, 10, 100)\n",
    "X, Y = np.meshgrid(x, y)\n",
    "\n",
    "mass = 5\n",
    "Z = spacetime_curvature(X, Y, mass)\n",
    "\n",
    "fig = plt.figure(figsize=(12, 8))\n",
    "ax = fig.add_subplot(111, projection='3d')\n",
    "surface = ax.plot_surface(X, Y, Z, cmap='viridis')\n",
    "ax.set_xlabel('X')\n",
    "ax.set_ylabel('Y')\n",
    "ax.set_zlabel('Spacetime Curvature')\n",
    "ax.set_title(\"Spacetime Curvature in General Relativity\")\n",
    "plt.colorbar(surface)\n",
    "plt.show()"
   ]
  },
  {
   "cell_type": "code",
   "execution_count": null,
   "metadata": {
    "vscode": {
     "languageId": "plaintext"
    }
   },
   "outputs": [],
   "source": [
    "def gravitational_lensing(x, y, mass):\n",
    "    r = np.sqrt(x**2 + y**2)\n",
    "    theta = np.arctan2(y, x)\n",
    "    deflection = 2 * mass / r\n",
    "    x_deflected = r * np.cos(theta + deflection)\n",
    "    y_deflected = r * np.sin(theta + deflection)\n",
    "    return x_deflected, y_deflected\n",
    "\n",
    "x = np.linspace(-10, 10, 1000)\n",
    "y = np.linspace(-10, 10, 1000)\n",
    "X, Y = np.meshgrid(x, y)\n",
    "\n",
    "mass = 2\n",
    "X_deflected, Y_deflected = gravitational_lensing(X, Y, mass)\n",
    "\n",
    "plt.figure(figsize=(12, 10))\n",
    "plt.scatter(X_deflected, Y_deflected, c=np.sqrt(X**2 + Y**2), cmap='viridis', s=1)\n",
    "plt.colorbar(label='Distance from center')\n",
    "plt.title(\"Gravitational Lensing Effect\")\n",
    "plt.xlabel(\"X\")\n",
    "plt.ylabel(\"Y\")\n",
    "plt.gca().set_aspect('equal', adjustable='box')\n",
    "plt.show()"
   ]
  },
  {
   "cell_type": "code",
   "execution_count": null,
   "metadata": {
    "vscode": {
     "languageId": "plaintext"
    }
   },
   "outputs": [],
   "source": [
    "def time_dilation(v, g, h):\n",
    "    c = 299792458  # speed of light in m/s\n",
    "    t_dilated = 1 / np.sqrt(1 - (v/c)**2) * np.exp(-g*h/c**2)\n",
    "    return t_dilated\n",
    "\n",
    "v = np.linspace(0, 0.99*299792458, 1000)  # velocity\n",
    "g = 9.81  # gravitational acceleration on Earth\n",
    "h = np.linspace(0, 1000000, 1000)  # height above Earth's surface\n",
    "\n",
    "V, H = np.meshgrid(v, h)\n",
    "T = time_dilation(V, g, H)\n",
    "\n",
    "plt.figure(figsize=(12, 8))\n",
    "contour = plt.contourf(V, H, T, levels=20, cmap='viridis')\n",
    "plt.colorbar(contour, label='Time Dilation Factor')\n",
    "plt.title(\"Time Dilation in General Relativity\")\n",
    "plt.xlabel(\"Velocity (m/s)\")\n",
    "plt.ylabel(\"Height above Earth's surface (m)\")\n",
    "plt.show()"
   ]
  }
 ],
 "metadata": {
  "language_info": {
   "name": "python"
  }
 },
 "nbformat": 4,
 "nbformat_minor": 2
}
